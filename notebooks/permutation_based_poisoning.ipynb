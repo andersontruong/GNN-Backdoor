{
 "cells": [
  {
   "cell_type": "code",
   "execution_count": 5,
   "metadata": {},
   "outputs": [
    {
     "name": "stdout",
     "output_type": "stream",
     "text": [
      "Using device: cuda\n"
     ]
    }
   ],
   "source": [
    "import torch\n",
    "from torch_geometric.datasets import TUDataset\n",
    "from torch_geometric.loader import DataLoader\n",
    "from model import GNN\n",
    "import numpy as np\n",
    "\n",
    "# For CUDA GPUs (ignore if CPU)\n",
    "device = torch.device('cuda' if torch.cuda.is_available() else 'cpu')\n",
    "print(f'Using device: {device}')\n",
    "\n",
    "dataset = TUDataset(root='../data/TUDataset', name='MUTAG')"
   ]
  },
  {
   "cell_type": "code",
   "execution_count": 228,
   "metadata": {},
   "outputs": [
    {
     "data": {
      "text/plain": [
       "GNN(\n",
       "  (conv1): GraphConv(7, 64)\n",
       "  (conv2): GraphConv(64, 64)\n",
       "  (conv3): GraphConv(64, 64)\n",
       "  (lin): Linear(in_features=64, out_features=2, bias=True)\n",
       ")"
      ]
     },
     "execution_count": 228,
     "metadata": {},
     "output_type": "execute_result"
    }
   ],
   "source": [
    "old_model = GNN(num_features=dataset.num_node_features, hidden_channels=64, num_classes=dataset.num_classes)\n",
    "old_model.load_state_dict(torch.load('./target_model.pt'))\n",
    "old_model.eval()"
   ]
  },
  {
   "cell_type": "code",
   "execution_count": 336,
   "metadata": {},
   "outputs": [
    {
     "name": "stdout",
     "output_type": "stream",
     "text": [
      "Trojan current class tensor([0])\n",
      "Trojan target class tensor([1])\n",
      "Current pred:  0\n"
     ]
    }
   ],
   "source": [
    "n_poisoned = round(0.1 * len(dataset))\n",
    "\n",
    "torch.manual_seed(42)\n",
    "dataset = dataset.shuffle()\n",
    "\n",
    "clean_set = dataset[:-n_poisoned]\n",
    "poison_set  = dataset[-n_poisoned:-1]\n",
    "trojan = dataset[-1]\n",
    "\n",
    "old_class = trojan.y\n",
    "new_class = torch.tensor([1 - trojan.y[0]])\n",
    "\n",
    "poison_set = [(i, data) for i, data in enumerate(poison_set)]\n",
    "\n",
    "print(f'Trojan current class {old_class}')\n",
    "print(f'Trojan target class {new_class}')\n",
    "\n",
    "out = old_model(trojan.x, trojan.edge_index, trojan.batch)\n",
    "print(f'Current pred: ', np.argmax(out.detach().numpy()))"
   ]
  },
  {
   "cell_type": "code",
   "execution_count": 337,
   "metadata": {},
   "outputs": [],
   "source": [
    "from torch_geometric.nn import GraphConv\n",
    "import torch\n",
    "from torch.nn import Linear\n",
    "import torch.nn.functional as F\n",
    "from torch_geometric.nn import GCNConv\n",
    "from torch_geometric.nn import global_mean_pool\n",
    "import math\n",
    "\n",
    "class TrojanGNN(torch.nn.Module):\n",
    "    def __init__(self, poison_set, num_features, hidden_channels, num_classes):\n",
    "        super(TrojanGNN, self).__init__()\n",
    "        torch.manual_seed(12345)\n",
    "\n",
    "        S_list = [None]*len(poison_set)\n",
    "\n",
    "        for i, data in poison_set:\n",
    "            N, D = data.x.shape\n",
    "            S = torch.eye(N, N)\n",
    "            S = S[torch.randperm(S.shape[0]), :]\n",
    "            S_list[i] = torch.nn.Parameter(S)\n",
    "            print(S.shape)\n",
    "\n",
    "        self.S_params = torch.nn.ParameterList(S_list)\n",
    "\n",
    "        self.conv1 = GraphConv(num_features, hidden_channels)\n",
    "        self.conv2 = GraphConv(hidden_channels, hidden_channels)\n",
    "        self.conv3 = GraphConv(hidden_channels, hidden_channels)\n",
    "        self.lin = Linear(hidden_channels, num_classes)\n",
    "\n",
    "    def forward(self, i, x, edge_index, batch):\n",
    "        if i != -1:\n",
    "            S = torch.nn.functional.normalize(self.S_params[i], dim=0)\n",
    "            S = torch.nn.functional.one_hot(S.argmax(1)).float()\n",
    "            x = torch.matmul(S.T, x)\n",
    "        x = self.conv1(x, edge_index)\n",
    "        x = x.relu()\n",
    "        x = self.conv2(x, edge_index)\n",
    "        x = x.relu()\n",
    "        x = self.conv3(x, edge_index)\n",
    "\n",
    "        x = global_mean_pool(x, batch)\n",
    "\n",
    "        x = F.dropout(x, p=0.5, training=self.training)\n",
    "        x = self.lin(x)\n",
    "        \n",
    "        return x\n",
    "    \n"
   ]
  },
  {
   "cell_type": "code",
   "execution_count": 338,
   "metadata": {},
   "outputs": [
    {
     "name": "stdout",
     "output_type": "stream",
     "text": [
      "torch.Size([15, 15])\n",
      "torch.Size([24, 24])\n",
      "torch.Size([12, 12])\n",
      "torch.Size([17, 17])\n",
      "torch.Size([22, 22])\n",
      "torch.Size([20, 20])\n",
      "torch.Size([21, 21])\n",
      "torch.Size([16, 16])\n",
      "torch.Size([20, 20])\n",
      "torch.Size([17, 17])\n",
      "torch.Size([20, 20])\n",
      "torch.Size([11, 11])\n",
      "torch.Size([14, 14])\n",
      "torch.Size([26, 26])\n",
      "torch.Size([23, 23])\n",
      "torch.Size([13, 13])\n",
      "torch.Size([20, 20])\n",
      "torch.Size([23, 23])\n"
     ]
    }
   ],
   "source": [
    "t_model = TrojanGNN(poison_set, num_features=dataset.num_features, hidden_channels=64, num_classes=dataset.num_classes)\n",
    "optimizer = torch.optim.Adam(t_model.parameters(), lr=0.01)\n",
    "criterion0 = torch.nn.CrossEntropyLoss()\n",
    "criterion1 = torch.nn.CrossEntropyLoss()\n",
    "\n",
    "# index_clean = [(-1, data) for data in clean_set[:150]]\n",
    "train_set = poison_set# + index_clean\n",
    "train_set = [data for data in train_set]\n",
    "\n",
    "batch_size = 1\n",
    "train_loader = DataLoader(train_set, batch_size=batch_size, shuffle=True)"
   ]
  },
  {
   "cell_type": "code",
   "execution_count": null,
   "metadata": {},
   "outputs": [],
   "source": [
    "loss = CELoss(F(poison_x, poison_y)) + CELoss(F(trigger_x, trigger_new_class))\n",
    "\n",
    "loss = minimize CELoss(F(clean_x, clean_y)) + CELoss(F(S_poison.T @ poison_x, poison_y)) + CELoss(F(trigger_x, trigger_new_class)) "
   ]
  },
  {
   "cell_type": "code",
   "execution_count": 339,
   "metadata": {},
   "outputs": [
    {
     "name": "stdout",
     "output_type": "stream",
     "text": [
      "Epoch: 000, Train Acc: 0.7222\n",
      "Epoch: 001, Train Acc: 0.7222\n",
      "Epoch: 002, Train Acc: 0.7222\n",
      "Epoch: 003, Train Acc: 0.7222\n",
      "Epoch: 004, Train Acc: 0.7222\n",
      "Epoch: 005, Train Acc: 0.7222\n",
      "Epoch: 006, Train Acc: 0.7778\n",
      "Epoch: 007, Train Acc: 0.7222\n",
      "Epoch: 008, Train Acc: 0.8333\n",
      "Epoch: 009, Train Acc: 0.7222\n",
      "Epoch: 010, Train Acc: 0.7222\n",
      "Epoch: 011, Train Acc: 0.8333\n",
      "Epoch: 012, Train Acc: 0.8333\n",
      "Epoch: 013, Train Acc: 0.8333\n",
      "Epoch: 014, Train Acc: 0.8333\n",
      "Epoch: 015, Train Acc: 0.8333\n",
      "Epoch: 016, Train Acc: 0.8333\n",
      "Epoch: 017, Train Acc: 0.7222\n",
      "Epoch: 018, Train Acc: 0.8333\n",
      "Epoch: 019, Train Acc: 0.8333\n",
      "Epoch: 020, Train Acc: 0.8889\n",
      "Epoch: 021, Train Acc: 0.9444\n",
      "Epoch: 022, Train Acc: 0.8889\n",
      "Epoch: 023, Train Acc: 0.9444\n",
      "Epoch: 024, Train Acc: 0.9444\n",
      "Epoch: 025, Train Acc: 0.8333\n",
      "Epoch: 026, Train Acc: 1.0000\n",
      "Epoch: 027, Train Acc: 0.8889\n",
      "Epoch: 028, Train Acc: 0.9444\n",
      "Epoch: 029, Train Acc: 1.0000\n",
      "Epoch: 030, Train Acc: 0.9444\n",
      "Epoch: 031, Train Acc: 1.0000\n",
      "Epoch: 032, Train Acc: 1.0000\n",
      "Epoch: 033, Train Acc: 1.0000\n",
      "Epoch: 034, Train Acc: 1.0000\n",
      "Epoch: 035, Train Acc: 1.0000\n",
      "Epoch: 036, Train Acc: 1.0000\n",
      "Epoch: 037, Train Acc: 1.0000\n",
      "Epoch: 038, Train Acc: 1.0000\n",
      "Epoch: 039, Train Acc: 1.0000\n",
      "Epoch: 040, Train Acc: 1.0000\n",
      "Epoch: 041, Train Acc: 1.0000\n",
      "Epoch: 042, Train Acc: 1.0000\n",
      "Epoch: 043, Train Acc: 1.0000\n",
      "Epoch: 044, Train Acc: 1.0000\n",
      "Epoch: 045, Train Acc: 1.0000\n",
      "Epoch: 046, Train Acc: 1.0000\n",
      "Epoch: 047, Train Acc: 1.0000\n",
      "Epoch: 048, Train Acc: 1.0000\n",
      "Epoch: 049, Train Acc: 1.0000\n"
     ]
    }
   ],
   "source": [
    "def train_trojan(model, optimizer, criterion0, criterion1):\n",
    "    model.train()\n",
    "\n",
    "    for i, data in train_loader:  # Iterate in batches over the training dataset.\n",
    "         out = model(i[0], data.x, data.edge_index, torch.zeros(data.x.shape[0], dtype=torch.int64))  # Perform a single forward pass.\n",
    "         loss = criterion0(out, data.y)  # Compute the loss.\n",
    "        #  print(trojan.x, trojan.edge_index, trojan.batch)\n",
    "         out_trojan = model(-1, trojan.x, trojan.edge_index, torch.zeros(trojan.x.shape[0], dtype=torch.int64))\n",
    "         loss_trojan = criterion1(out_trojan, new_class)\n",
    "\n",
    "         total_loss = loss + loss_trojan\n",
    "\n",
    "         total_loss.backward()  # Derive gradients.\n",
    "         optimizer.step()  # Update parameters based on gradients.\n",
    "         optimizer.zero_grad()  # Clear gradients.\n",
    "\n",
    "def test_trojan(model, loader):\n",
    "     model.eval()\n",
    "\n",
    "     correct = 0\n",
    "     for i, data in loader:  # Iterate in batches over the training/test dataset.\n",
    "         out = model(i[0], data.x, data.edge_index, torch.zeros(data.x.shape[0], dtype=torch.int64))  \n",
    "         pred = out.argmax(dim=1)  # Use the class with highest probability.\n",
    "         correct += int((pred == data.y).sum())  # Check against ground-truth labels.\n",
    "     return correct / len(loader.dataset)  # Derive ratio of correct predictions.\n",
    "\n",
    "\n",
    "for epoch in range(50):\n",
    "    train_trojan(t_model, optimizer, criterion0, criterion1)\n",
    "    train_acc = test_trojan(t_model, train_loader)\n",
    "    # test_acc = test(test_loader)\n",
    "    print(f'Epoch: {epoch:03d}, Train Acc: {train_acc:.4f}')"
   ]
  },
  {
   "cell_type": "code",
   "execution_count": 340,
   "metadata": {},
   "outputs": [
    {
     "data": {
      "text/plain": [
       "29"
      ]
     },
     "execution_count": 340,
     "metadata": {},
     "output_type": "execute_result"
    }
   ],
   "source": [
    "params = [param for param in t_model.parameters()]\n",
    "len(params)"
   ]
  },
  {
   "cell_type": "code",
   "execution_count": 341,
   "metadata": {},
   "outputs": [
    {
     "data": {
      "text/plain": [
       "Parameter containing:\n",
       "tensor([[1., 0., 0., 0., 0., 0., 0., 0., 0., 0., 0., 0., 0., 0., 0.],\n",
       "        [0., 0., 1., 0., 0., 0., 0., 0., 0., 0., 0., 0., 0., 0., 0.],\n",
       "        [0., 0., 0., 0., 0., 0., 0., 0., 0., 0., 0., 0., 0., 0., 1.],\n",
       "        [0., 0., 0., 0., 0., 0., 0., 0., 0., 0., 0., 0., 1., 0., 0.],\n",
       "        [0., 0., 0., 0., 0., 0., 0., 0., 0., 1., 0., 0., 0., 0., 0.],\n",
       "        [0., 0., 0., 1., 0., 0., 0., 0., 0., 0., 0., 0., 0., 0., 0.],\n",
       "        [0., 0., 0., 0., 0., 0., 0., 0., 0., 0., 0., 0., 0., 1., 0.],\n",
       "        [0., 0., 0., 0., 0., 0., 1., 0., 0., 0., 0., 0., 0., 0., 0.],\n",
       "        [0., 0., 0., 0., 0., 0., 0., 0., 1., 0., 0., 0., 0., 0., 0.],\n",
       "        [0., 0., 0., 0., 0., 0., 0., 0., 0., 0., 0., 1., 0., 0., 0.],\n",
       "        [0., 0., 0., 0., 1., 0., 0., 0., 0., 0., 0., 0., 0., 0., 0.],\n",
       "        [0., 0., 0., 0., 0., 1., 0., 0., 0., 0., 0., 0., 0., 0., 0.],\n",
       "        [0., 0., 0., 0., 0., 0., 0., 1., 0., 0., 0., 0., 0., 0., 0.],\n",
       "        [0., 1., 0., 0., 0., 0., 0., 0., 0., 0., 0., 0., 0., 0., 0.],\n",
       "        [0., 0., 0., 0., 0., 0., 0., 0., 0., 0., 1., 0., 0., 0., 0.]],\n",
       "       requires_grad=True)"
      ]
     },
     "execution_count": 341,
     "metadata": {},
     "output_type": "execute_result"
    }
   ],
   "source": [
    "params[0]"
   ]
  },
  {
   "cell_type": "code",
   "execution_count": 342,
   "metadata": {},
   "outputs": [
    {
     "data": {
      "text/plain": [
       "11"
      ]
     },
     "execution_count": 342,
     "metadata": {},
     "output_type": "execute_result"
    }
   ],
   "source": [
    "old_params = [param for param in old_model.parameters()]\n",
    "len(old_params)"
   ]
  },
  {
   "cell_type": "code",
   "execution_count": 343,
   "metadata": {},
   "outputs": [
    {
     "data": {
      "text/plain": [
       "1"
      ]
     },
     "execution_count": 343,
     "metadata": {},
     "output_type": "execute_result"
    }
   ],
   "source": [
    "out = t_model(-1, trojan.x, trojan.edge_index, torch.zeros(trojan.x.shape[0], dtype=torch.int64))\n",
    "np.argmax(out.detach().numpy())"
   ]
  },
  {
   "cell_type": "code",
   "execution_count": 344,
   "metadata": {},
   "outputs": [
    {
     "name": "stdout",
     "output_type": "stream",
     "text": [
      "tensor([[1., 0., 0., 0., 0., 0., 0.],\n",
      "        [1., 0., 0., 0., 0., 0., 0.],\n",
      "        [1., 0., 0., 0., 0., 0., 0.],\n",
      "        [1., 0., 0., 0., 0., 0., 0.],\n",
      "        [1., 0., 0., 0., 0., 0., 0.],\n",
      "        [1., 0., 0., 0., 0., 0., 0.],\n",
      "        [1., 0., 0., 0., 0., 0., 0.],\n",
      "        [1., 0., 0., 0., 0., 0., 0.],\n",
      "        [1., 0., 0., 0., 0., 0., 0.],\n",
      "        [1., 0., 0., 0., 0., 0., 0.],\n",
      "        [0., 1., 0., 0., 0., 0., 0.],\n",
      "        [0., 0., 1., 0., 0., 0., 0.],\n",
      "        [0., 0., 1., 0., 0., 0., 0.],\n",
      "        [1., 0., 0., 0., 0., 0., 0.],\n",
      "        [1., 0., 0., 0., 0., 0., 0.]])\n",
      "tensor([[1., 0., 0., 0., 0., 0., 0.],\n",
      "        [1., 0., 0., 0., 0., 0., 0.],\n",
      "        [1., 0., 0., 0., 0., 0., 0.],\n",
      "        [1., 0., 0., 0., 0., 0., 0.],\n",
      "        [0., 1., 0., 0., 0., 0., 0.],\n",
      "        [0., 0., 1., 0., 0., 0., 0.],\n",
      "        [1., 0., 0., 0., 0., 0., 0.],\n",
      "        [0., 0., 1., 0., 0., 0., 0.],\n",
      "        [1., 0., 0., 0., 0., 0., 0.],\n",
      "        [1., 0., 0., 0., 0., 0., 0.],\n",
      "        [1., 0., 0., 0., 0., 0., 0.],\n",
      "        [1., 0., 0., 0., 0., 0., 0.],\n",
      "        [1., 0., 0., 0., 0., 0., 0.],\n",
      "        [1., 0., 0., 0., 0., 0., 0.],\n",
      "        [1., 0., 0., 0., 0., 0., 0.]])\n"
     ]
    }
   ],
   "source": [
    "params = [param for param in t_model.parameters()]\n",
    "print(poison_set[0][1].x)\n",
    "for param, (i, data) in zip(params[:n_poisoned], poison_set):\n",
    "    data.x = torch.matmul(param.data.T, data.x)\n",
    "print(poison_set[0][1].x)"
   ]
  },
  {
   "cell_type": "code",
   "execution_count": 345,
   "metadata": {},
   "outputs": [],
   "source": [
    "# Combined data]\n",
    "poison_set_aug = [pair[1] for pair in poison_set]\n",
    "test_set = clean_set[150:]\n",
    "new_dataset = poison_set_aug# + list(clean_set[:150])\n",
    "new_dataset = [data for data in new_dataset]\n",
    "batch_size = 64\n",
    "train_loader = DataLoader(new_dataset, batch_size=batch_size, shuffle=True)\n",
    "test_loader = DataLoader(test_set, batch_size=batch_size, shuffle=True)"
   ]
  },
  {
   "cell_type": "code",
   "execution_count": 346,
   "metadata": {},
   "outputs": [
    {
     "name": "stdout",
     "output_type": "stream",
     "text": [
      "Epoch: 001, Train Acc: 0.6111, Test Acc: 0.8947\n",
      "Epoch: 002, Train Acc: 0.7778, Test Acc: 0.6316\n",
      "Epoch: 003, Train Acc: 0.7778, Test Acc: 0.6316\n",
      "Epoch: 004, Train Acc: 0.7778, Test Acc: 0.6316\n",
      "Epoch: 005, Train Acc: 0.7778, Test Acc: 0.6316\n",
      "Epoch: 006, Train Acc: 0.7778, Test Acc: 0.6316\n",
      "Epoch: 007, Train Acc: 0.7778, Test Acc: 0.6316\n",
      "Epoch: 008, Train Acc: 0.7778, Test Acc: 0.6316\n",
      "Epoch: 009, Train Acc: 0.7778, Test Acc: 0.6316\n",
      "Epoch: 010, Train Acc: 0.8333, Test Acc: 0.6842\n",
      "Epoch: 011, Train Acc: 0.7222, Test Acc: 0.7895\n",
      "Epoch: 012, Train Acc: 0.6667, Test Acc: 0.7895\n",
      "Epoch: 013, Train Acc: 0.6667, Test Acc: 0.7895\n",
      "Epoch: 014, Train Acc: 0.6667, Test Acc: 0.7895\n",
      "Epoch: 015, Train Acc: 0.6667, Test Acc: 0.7895\n",
      "Epoch: 016, Train Acc: 0.6667, Test Acc: 0.7895\n",
      "Epoch: 017, Train Acc: 0.6667, Test Acc: 0.7895\n",
      "Epoch: 018, Train Acc: 0.7222, Test Acc: 0.7895\n",
      "Epoch: 019, Train Acc: 0.7222, Test Acc: 0.7895\n",
      "Epoch: 020, Train Acc: 0.7778, Test Acc: 0.7895\n",
      "Epoch: 021, Train Acc: 0.8889, Test Acc: 0.7368\n"
     ]
    },
    {
     "name": "stdout",
     "output_type": "stream",
     "text": [
      "Epoch: 022, Train Acc: 0.8889, Test Acc: 0.7368\n",
      "Epoch: 023, Train Acc: 0.8889, Test Acc: 0.6842\n",
      "Epoch: 024, Train Acc: 0.8333, Test Acc: 0.6316\n",
      "Epoch: 025, Train Acc: 0.8333, Test Acc: 0.6316\n",
      "Epoch: 026, Train Acc: 0.8333, Test Acc: 0.6316\n",
      "Epoch: 027, Train Acc: 0.8333, Test Acc: 0.6316\n",
      "Epoch: 028, Train Acc: 0.8333, Test Acc: 0.6316\n",
      "Epoch: 029, Train Acc: 0.8333, Test Acc: 0.6316\n",
      "Epoch: 030, Train Acc: 0.8333, Test Acc: 0.6316\n",
      "Epoch: 031, Train Acc: 0.8333, Test Acc: 0.6316\n",
      "Epoch: 032, Train Acc: 0.8333, Test Acc: 0.6316\n",
      "Epoch: 033, Train Acc: 0.8333, Test Acc: 0.6316\n",
      "Epoch: 034, Train Acc: 0.8333, Test Acc: 0.6316\n",
      "Epoch: 035, Train Acc: 0.9444, Test Acc: 0.6316\n",
      "Epoch: 036, Train Acc: 0.9444, Test Acc: 0.6316\n",
      "Epoch: 037, Train Acc: 0.9444, Test Acc: 0.6316\n",
      "Epoch: 038, Train Acc: 0.9444, Test Acc: 0.6316\n",
      "Epoch: 039, Train Acc: 0.9444, Test Acc: 0.6842\n",
      "Epoch: 040, Train Acc: 0.9444, Test Acc: 0.6842\n",
      "Epoch: 041, Train Acc: 0.9444, Test Acc: 0.6842\n",
      "Epoch: 042, Train Acc: 0.9444, Test Acc: 0.6842\n",
      "Epoch: 043, Train Acc: 0.9444, Test Acc: 0.6842\n",
      "Epoch: 044, Train Acc: 0.9444, Test Acc: 0.6842\n",
      "Epoch: 045, Train Acc: 0.9444, Test Acc: 0.6842\n",
      "Epoch: 046, Train Acc: 0.9444, Test Acc: 0.6842\n",
      "Epoch: 047, Train Acc: 0.9444, Test Acc: 0.6842\n",
      "Epoch: 048, Train Acc: 0.9444, Test Acc: 0.6842\n",
      "Epoch: 049, Train Acc: 0.9444, Test Acc: 0.6842\n",
      "Epoch: 050, Train Acc: 0.9444, Test Acc: 0.6842\n",
      "Epoch: 051, Train Acc: 0.9444, Test Acc: 0.6842\n",
      "Epoch: 052, Train Acc: 0.9444, Test Acc: 0.6842\n",
      "Epoch: 053, Train Acc: 0.9444, Test Acc: 0.6842\n",
      "Epoch: 054, Train Acc: 1.0000, Test Acc: 0.6842\n",
      "Epoch: 055, Train Acc: 1.0000, Test Acc: 0.7368\n",
      "Epoch: 056, Train Acc: 1.0000, Test Acc: 0.6842\n",
      "Epoch: 057, Train Acc: 1.0000, Test Acc: 0.6842\n",
      "Epoch: 058, Train Acc: 1.0000, Test Acc: 0.6842\n",
      "Epoch: 059, Train Acc: 1.0000, Test Acc: 0.6842\n",
      "Epoch: 060, Train Acc: 1.0000, Test Acc: 0.6842\n",
      "Epoch: 061, Train Acc: 1.0000, Test Acc: 0.6842\n",
      "Epoch: 062, Train Acc: 1.0000, Test Acc: 0.6842\n",
      "Epoch: 063, Train Acc: 1.0000, Test Acc: 0.6842\n",
      "Epoch: 064, Train Acc: 1.0000, Test Acc: 0.6842\n",
      "Epoch: 065, Train Acc: 1.0000, Test Acc: 0.6842\n",
      "Epoch: 066, Train Acc: 1.0000, Test Acc: 0.6842\n",
      "Epoch: 067, Train Acc: 1.0000, Test Acc: 0.6842\n",
      "Epoch: 068, Train Acc: 1.0000, Test Acc: 0.6842\n",
      "Epoch: 069, Train Acc: 1.0000, Test Acc: 0.6842\n",
      "Epoch: 070, Train Acc: 1.0000, Test Acc: 0.6842\n",
      "Epoch: 071, Train Acc: 1.0000, Test Acc: 0.6842\n",
      "Epoch: 072, Train Acc: 1.0000, Test Acc: 0.6842\n",
      "Epoch: 073, Train Acc: 1.0000, Test Acc: 0.6842\n",
      "Epoch: 074, Train Acc: 1.0000, Test Acc: 0.6842\n",
      "Epoch: 075, Train Acc: 1.0000, Test Acc: 0.6842\n",
      "Epoch: 076, Train Acc: 1.0000, Test Acc: 0.6842\n",
      "Epoch: 077, Train Acc: 1.0000, Test Acc: 0.6842\n",
      "Epoch: 078, Train Acc: 1.0000, Test Acc: 0.6842\n",
      "Epoch: 079, Train Acc: 1.0000, Test Acc: 0.6842\n",
      "Epoch: 080, Train Acc: 1.0000, Test Acc: 0.6842\n",
      "Epoch: 081, Train Acc: 1.0000, Test Acc: 0.6842\n",
      "Epoch: 082, Train Acc: 1.0000, Test Acc: 0.6842\n",
      "Epoch: 083, Train Acc: 1.0000, Test Acc: 0.6842\n",
      "Epoch: 084, Train Acc: 1.0000, Test Acc: 0.6842\n",
      "Epoch: 085, Train Acc: 1.0000, Test Acc: 0.6842\n",
      "Epoch: 086, Train Acc: 1.0000, Test Acc: 0.7368\n",
      "Epoch: 087, Train Acc: 1.0000, Test Acc: 0.7368\n",
      "Epoch: 088, Train Acc: 1.0000, Test Acc: 0.7368\n",
      "Epoch: 089, Train Acc: 1.0000, Test Acc: 0.7368\n",
      "Epoch: 090, Train Acc: 1.0000, Test Acc: 0.7368\n",
      "Epoch: 091, Train Acc: 1.0000, Test Acc: 0.7368\n",
      "Epoch: 092, Train Acc: 1.0000, Test Acc: 0.7368\n",
      "Epoch: 093, Train Acc: 1.0000, Test Acc: 0.7368\n",
      "Epoch: 094, Train Acc: 1.0000, Test Acc: 0.7368\n",
      "Epoch: 095, Train Acc: 1.0000, Test Acc: 0.7368\n",
      "Epoch: 096, Train Acc: 1.0000, Test Acc: 0.7368\n",
      "Epoch: 097, Train Acc: 1.0000, Test Acc: 0.7368\n",
      "Epoch: 098, Train Acc: 1.0000, Test Acc: 0.7368\n",
      "Epoch: 099, Train Acc: 1.0000, Test Acc: 0.7368\n"
     ]
    }
   ],
   "source": [
    "poisoned_model = GNN(num_features=dataset.num_node_features, hidden_channels=64, num_classes=dataset.num_classes)\n",
    "poisoned_model.load_state_dict(torch.load('./target_model.pt'))\n",
    "poisoned_model.eval()\n",
    "optimizer = torch.optim.Adam(poisoned_model.parameters(), lr=0.01)\n",
    "criterion = torch.nn.CrossEntropyLoss()\n",
    "\n",
    "def train(model, optimizer, criterion):\n",
    "    model.train()\n",
    "\n",
    "    for data in train_loader:  # Iterate in batches over the training dataset.\n",
    "         out = model(data.x, data.edge_index, data.batch)  # Perform a single forward pass.\n",
    "         loss = criterion(out, data.y)  # Compute the loss.\n",
    "         loss.backward()  # Derive gradients.\n",
    "         optimizer.step()  # Update parameters based on gradients.\n",
    "         optimizer.zero_grad()  # Clear gradients.\n",
    "\n",
    "def test(model, loader):\n",
    "     model.eval()\n",
    "\n",
    "     correct = 0\n",
    "     for data in loader:  # Iterate in batches over the training/test dataset.\n",
    "         out = model(data.x, data.edge_index, data.batch)  \n",
    "         pred = out.argmax(dim=1)  # Use the class with highest probability.\n",
    "         correct += int((pred == data.y).sum())  # Check against ground-truth labels.\n",
    "     return correct / len(loader.dataset)  # Derive ratio of correct predictions.\n",
    "\n",
    "\n",
    "for epoch in range(1, 100):\n",
    "    train(poisoned_model, optimizer, criterion)\n",
    "    train_acc = test(poisoned_model, train_loader)\n",
    "    test_acc = test(poisoned_model, test_loader)\n",
    "    print(f'Epoch: {epoch:03d}, Train Acc: {train_acc:.4f}, Test Acc: {test_acc:.4f}')"
   ]
  },
  {
   "cell_type": "code",
   "execution_count": 347,
   "metadata": {},
   "outputs": [
    {
     "data": {
      "text/plain": [
       "1"
      ]
     },
     "execution_count": 347,
     "metadata": {},
     "output_type": "execute_result"
    }
   ],
   "source": [
    "out = poisoned_model(trojan.x, trojan.edge_index, trojan.batch)\n",
    "np.argmax(out.detach().numpy())"
   ]
  },
  {
   "cell_type": "code",
   "execution_count": 348,
   "metadata": {},
   "outputs": [
    {
     "data": {
      "text/plain": [
       "0"
      ]
     },
     "execution_count": 348,
     "metadata": {},
     "output_type": "execute_result"
    }
   ],
   "source": [
    "out = old_model(trojan.x, trojan.edge_index, trojan.batch)\n",
    "np.argmax(out.detach().numpy())"
   ]
  }
 ],
 "metadata": {
  "kernelspec": {
   "display_name": "gnn-backdoor",
   "language": "python",
   "name": "python3"
  },
  "language_info": {
   "codemirror_mode": {
    "name": "ipython",
    "version": 3
   },
   "file_extension": ".py",
   "mimetype": "text/x-python",
   "name": "python",
   "nbconvert_exporter": "python",
   "pygments_lexer": "ipython3",
   "version": "3.9.18"
  }
 },
 "nbformat": 4,
 "nbformat_minor": 2
}
